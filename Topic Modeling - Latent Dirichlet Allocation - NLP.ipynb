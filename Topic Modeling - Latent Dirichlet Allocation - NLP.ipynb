{
 "cells": [
  {
   "cell_type": "code",
   "execution_count": 1,
   "metadata": {
    "collapsed": true
   },
   "outputs": [],
   "source": [
    "import pandas as pd"
   ]
  },
  {
   "cell_type": "code",
   "execution_count": 2,
   "metadata": {
    "collapsed": true
   },
   "outputs": [],
   "source": [
    "data = pd.read_csv('articles.csv')"
   ]
  },
  {
   "cell_type": "code",
   "execution_count": 3,
   "metadata": {},
   "outputs": [
    {
     "data": {
      "text/html": [
       "<div>\n",
       "<style>\n",
       "    .dataframe thead tr:only-child th {\n",
       "        text-align: right;\n",
       "    }\n",
       "\n",
       "    .dataframe thead th {\n",
       "        text-align: left;\n",
       "    }\n",
       "\n",
       "    .dataframe tbody tr th {\n",
       "        vertical-align: top;\n",
       "    }\n",
       "</style>\n",
       "<table border=\"1\" class=\"dataframe\">\n",
       "  <thead>\n",
       "    <tr style=\"text-align: right;\">\n",
       "      <th></th>\n",
       "      <th>Article</th>\n",
       "    </tr>\n",
       "  </thead>\n",
       "  <tbody>\n",
       "    <tr>\n",
       "      <th>0</th>\n",
       "      <td>In the Washington of 2016, even when the polic...</td>\n",
       "    </tr>\n",
       "    <tr>\n",
       "      <th>1</th>\n",
       "      <td>Donald Trump has used Twitter  —   his prefe...</td>\n",
       "    </tr>\n",
       "    <tr>\n",
       "      <th>2</th>\n",
       "      <td>Donald Trump is unabashedly praising Russian...</td>\n",
       "    </tr>\n",
       "    <tr>\n",
       "      <th>3</th>\n",
       "      <td>Updated at 2:50 p. m. ET, Russian President Vl...</td>\n",
       "    </tr>\n",
       "    <tr>\n",
       "      <th>4</th>\n",
       "      <td>From photography, illustration and video, to d...</td>\n",
       "    </tr>\n",
       "  </tbody>\n",
       "</table>\n",
       "</div>"
      ],
      "text/plain": [
       "                                             Article\n",
       "0  In the Washington of 2016, even when the polic...\n",
       "1    Donald Trump has used Twitter  —   his prefe...\n",
       "2    Donald Trump is unabashedly praising Russian...\n",
       "3  Updated at 2:50 p. m. ET, Russian President Vl...\n",
       "4  From photography, illustration and video, to d..."
      ]
     },
     "execution_count": 3,
     "metadata": {},
     "output_type": "execute_result"
    }
   ],
   "source": [
    "data.head()"
   ]
  },
  {
   "cell_type": "code",
   "execution_count": 4,
   "metadata": {},
   "outputs": [
    {
     "data": {
      "text/plain": [
       "11992"
      ]
     },
     "execution_count": 4,
     "metadata": {},
     "output_type": "execute_result"
    }
   ],
   "source": [
    "len(data)"
   ]
  },
  {
   "cell_type": "code",
   "execution_count": 5,
   "metadata": {},
   "outputs": [
    {
     "data": {
      "text/plain": [
       "'A Jewish farming couple from Canada says it has shepherded the sheep of the bible back to the Holy Land after centuries in exile. With donations from Jewish and Christian supporters, and some help from the Israeli government, Jenna and Gil Lewinsky have airlifted 119 furry members of the Jacob Sheep breed from their farm in Abbotsford, British Columbia, to Israel. Jacob Sheep are found in the U. K. and North America, but the Lewinskys say the breed originally roamed the Middle East and ancient Israel, and their spotted and speckled coats match the description in the Book of Genesis of Jacob’s flock. ”You know that Israel is built on Jewish people returning. Now you have a case of an animal from the Old Testament also returning,” said Gil Lewinsky from a customs loading dock at Israel’s international airport near Tel Aviv. Several times a week in recent weeks, an Air Canada jet touched down at the airport carrying a group of the Lewinskys’ fluffy Jacob Sheep in its cargo. ”Come, Israel, come!” farmer Jenna Lewinsky said to one reticent animal, coaxing him out of his shipping crate. Each animal comes with a Hebrew name. About two years ago, the Lewinskys wanted help with their spiritual mission to repatriate Jacob Sheep to their biblical homeland, and they contacted Eitan Weiss, then the head of cultural relations at the Israeli embassy in Ottawa. ”I was like, what the hell? Sheep?” Weiss recalled. ”I don’t know. It sounded very, very odd, I had to say. But when I did the homework and when they sent me some material, I said, I think this is an amazing story.” The Israeli Agriculture Ministry was not as enthused. Canada is not on Israel’s list of approved countries for livestock import. But the Israeli ambassador to Canada got involved, and the Agriculture Ministry granted a   exception for the Jacob Sheep. Curious to learn more about the sheep’s pedigree, I visited sheep expert Elisha Gootwine at the Israeli Agriculture Ministry’s research organization, the Volcani Center. ”Jacob Sheep are related to Jacob the same as the American Indians are related to India,” Gootwine said with a chuckle, standing inside the research center’s sheep pen. The Jacob Sheep are originally British and got their name in the late 19th century because their spots and speckles called to mind Jacob’s sheep from the Bible, Gootwine said. Generally, all sheep can be traced back to the Near East, he said, because sheep were first domesticated in the Fertile Crescent. But the Jacob Sheep breed, according to Gootwine, is not indigenous to ancient Israel. Zohar Amar, a senior lecturer in the Department of Land of Israel Studies and Archaeology at   University in Israel, who studies the flora and fauna of ancient Israel, said the Jacob Sheep breed ”may have a long history in the U. K.,” but, ”according to all of the scientific indications we have (historical and zoological sources) it has no connection to the ancient sheep breeds” of ancient Israel. ”Anyway, it’s a nice breed and people will be happy to see it,” Gootwine said. ”It is a good story. For journalists, not for scientists.” ”So, it’s just, it’s a myth,” I said. ”Yes. But what is wrong with myth? If you enjoy it, why not?” Gootwine replied. The Lewinsky farmers say the biblical roots of the Jacob Sheep are not a myth. They’ve traced the breed’s route from ancient Israel to the Iberian Peninsula to England to North America  ” and now, to Israel. The Lewinskys are currently setting up a farm for the sheep near Jerusalem, and they are continuing to solicit donations for support. Five of their sheep died shortly after arriving in Israel.  Meanwhile, the Israeli Foreign Ministry is planning a welcome home ceremony for the animals. Is Israel their original home? The Israeli Foreign Ministry’s Eitan Weiss said he sees it as a matter of faith.'"
      ]
     },
     "execution_count": 5,
     "metadata": {},
     "output_type": "execute_result"
    }
   ],
   "source": [
    "data['Article'][45]"
   ]
  },
  {
   "cell_type": "code",
   "execution_count": 7,
   "metadata": {},
   "outputs": [],
   "source": [
    "#Data Preprocessing\n",
    "from sklearn.feature_extraction.text import CountVectorizer"
   ]
  },
  {
   "cell_type": "code",
   "execution_count": 9,
   "metadata": {
    "collapsed": true
   },
   "outputs": [],
   "source": [
    "CV = CountVectorizer(max_df=0.95,min_df=2,stop_words='english')"
   ]
  },
  {
   "cell_type": "code",
   "execution_count": 11,
   "metadata": {},
   "outputs": [],
   "source": [
    "dtm = CV.fit_transform(data['Article'])"
   ]
  },
  {
   "cell_type": "code",
   "execution_count": 12,
   "metadata": {
    "collapsed": true
   },
   "outputs": [],
   "source": [
    "#LDA\n",
    "from sklearn.decomposition import LatentDirichletAllocation"
   ]
  },
  {
   "cell_type": "code",
   "execution_count": 14,
   "metadata": {
    "collapsed": true
   },
   "outputs": [],
   "source": [
    "LDA = LatentDirichletAllocation(n_components=7,random_state=42)"
   ]
  },
  {
   "cell_type": "code",
   "execution_count": 15,
   "metadata": {},
   "outputs": [
    {
     "name": "stderr",
     "output_type": "stream",
     "text": [
      "C:\\Users\\imroy\\Anaconda3\\lib\\site-packages\\sklearn\\decomposition\\online_lda.py:536: DeprecationWarning: The default value for 'learning_method' will be changed from 'online' to 'batch' in the release 0.20. This warning was introduced in 0.18.\n",
      "  DeprecationWarning)\n"
     ]
    },
    {
     "data": {
      "text/plain": [
       "LatentDirichletAllocation(batch_size=128, doc_topic_prior=None,\n",
       "             evaluate_every=-1, learning_decay=0.7, learning_method=None,\n",
       "             learning_offset=10.0, max_doc_update_iter=100, max_iter=10,\n",
       "             mean_change_tol=0.001, n_components=7, n_jobs=1,\n",
       "             n_topics=None, perp_tol=0.1, random_state=42,\n",
       "             topic_word_prior=None, total_samples=1000000.0, verbose=0)"
      ]
     },
     "execution_count": 15,
     "metadata": {},
     "output_type": "execute_result"
    }
   ],
   "source": [
    "LDA.fit(dtm)"
   ]
  },
  {
   "cell_type": "code",
   "execution_count": 18,
   "metadata": {},
   "outputs": [
    {
     "data": {
      "text/plain": [
       "54777"
      ]
     },
     "execution_count": 18,
     "metadata": {},
     "output_type": "execute_result"
    }
   ],
   "source": [
    "#To see words\n",
    "len(CV.get_feature_names())"
   ]
  },
  {
   "cell_type": "code",
   "execution_count": 24,
   "metadata": {},
   "outputs": [
    {
     "name": "stdout",
     "output_type": "stream",
     "text": [
      "hydrate\n",
      "speckled\n",
      "laban\n",
      "flopping\n",
      "veneer\n",
      "virunga\n",
      "squarely\n",
      "chibok\n",
      "pedagogy\n",
      "obscenities\n"
     ]
    }
   ],
   "source": [
    "import random\n",
    "for i in range(10):\n",
    "    random_words = random.randint(0,54776)\n",
    "    print(CV.get_feature_names()[random_words])"
   ]
  },
  {
   "cell_type": "code",
   "execution_count": 25,
   "metadata": {},
   "outputs": [
    {
     "data": {
      "text/plain": [
       "array([[2.55030234e+01, 1.18160521e+03, 1.42857161e-01, ...,\n",
       "        1.42942888e-01, 1.42865635e-01, 1.42994709e-01],\n",
       "       [1.75938770e+01, 7.79163845e+00, 1.42871959e-01, ...,\n",
       "        1.42857152e-01, 1.43057304e-01, 1.42990129e-01],\n",
       "       [5.56830532e+00, 7.61579261e+02, 1.42857370e-01, ...,\n",
       "        4.84616992e+00, 2.46543716e+00, 1.42942152e-01],\n",
       "       ...,\n",
       "       [1.43329722e-01, 6.12135291e+02, 1.42857193e-01, ...,\n",
       "        1.42868589e-01, 1.42859011e-01, 1.42897792e-01],\n",
       "       [3.89096469e+01, 1.97272208e+01, 4.00585507e+00, ...,\n",
       "        1.43174190e-01, 1.45396934e-01, 2.17293923e+00],\n",
       "       [5.82136826e+00, 1.76095158e+03, 1.43163938e-01, ...,\n",
       "        1.42994603e-01, 1.43326983e-01, 1.42965349e-01]])"
      ]
     },
     "execution_count": 25,
     "metadata": {},
     "output_type": "execute_result"
    }
   ],
   "source": [
    "#To see top words per topic\n",
    "LDA.components_"
   ]
  },
  {
   "cell_type": "code",
   "execution_count": 26,
   "metadata": {
    "collapsed": true
   },
   "outputs": [],
   "source": [
    "single_topic = LDA.components_[0] #Topic - 1"
   ]
  },
  {
   "cell_type": "code",
   "execution_count": 27,
   "metadata": {},
   "outputs": [
    {
     "data": {
      "text/plain": [
       "array([49163, 21347, 20789, ..., 37374, 42993, 42561], dtype=int64)"
      ]
     },
     "execution_count": 27,
     "metadata": {},
     "output_type": "execute_result"
    }
   ],
   "source": [
    "single_topic.argsort()"
   ]
  },
  {
   "cell_type": "code",
   "execution_count": 28,
   "metadata": {
    "collapsed": true
   },
   "outputs": [],
   "source": [
    "top_words_index = single_topic.argsort()[-10:]"
   ]
  },
  {
   "cell_type": "code",
   "execution_count": 29,
   "metadata": {},
   "outputs": [
    {
     "data": {
      "text/plain": [
       "array([ 9511, 49613, 53019, 11657, 21228, 40955, 36283, 37374, 42993,\n",
       "       42561], dtype=int64)"
      ]
     },
     "execution_count": 29,
     "metadata": {},
     "output_type": "execute_result"
    }
   ],
   "source": [
    "top_words_index"
   ]
  },
  {
   "cell_type": "code",
   "execution_count": 30,
   "metadata": {},
   "outputs": [
    {
     "name": "stdout",
     "output_type": "stream",
     "text": [
      "city\n",
      "told\n",
      "war\n",
      "country\n",
      "government\n",
      "reports\n",
      "people\n",
      "police\n",
      "says\n",
      "said\n"
     ]
    }
   ],
   "source": [
    "for index in top_words_index:\n",
    "    print(CV.get_feature_names()[index])"
   ]
  },
  {
   "cell_type": "code",
   "execution_count": 34,
   "metadata": {},
   "outputs": [
    {
     "name": "stdout",
     "output_type": "stream",
     "text": [
      "Top words in topic-0\n",
      "['state', 'attack', 'killed', 'according', 'military', 'city', 'told', 'war', 'country', 'government', 'reports', 'people', 'police', 'says', 'said']\n",
      "\n",
      "\n",
      "\n",
      "\n",
      "Top words in topic-1\n",
      "['russian', 'npr', 'fbi', 'did', 'clinton', 'told', 'media', 'white', 'campaign', 'russia', 'house', 'news', 'president', 'said', 'trump']\n",
      "\n",
      "\n",
      "\n",
      "\n",
      "Top words in topic-2\n",
      "['world', 'year', 'make', 'day', 'home', 'time', 'city', 'new', 'years', 'just', 'people', 'water', 'like', 'food', 'says']\n",
      "\n",
      "\n",
      "\n",
      "\n",
      "Top words in topic-3\n",
      "['women', 'don', 'just', 'research', 'like', 'university', 'children', 'percent', 'care', 'study', 'students', 'school', 'health', 'people', 'says']\n",
      "\n",
      "\n",
      "\n",
      "\n",
      "Top words in topic-4\n",
      "['vote', 'court', 'new', 'percent', 'republican', 'law', 'campaign', 'obama', 'states', 'people', 'president', 'clinton', 'state', 'said', 'trump']\n",
      "\n",
      "\n",
      "\n",
      "\n",
      "Top words in topic-5\n",
      "['ve', 'going', 'years', 'don', 'life', 'new', 'really', 'way', 'says', 'know', 'think', 'time', 'people', 'just', 'like']\n",
      "\n",
      "\n",
      "\n",
      "\n",
      "Top words in topic-6\n",
      "['jobs', 'said', 'percent', 'government', 'money', 'year', 'industry', 'business', '000', 'million', 'china', 'companies', 'new', 'company', 'says']\n",
      "\n",
      "\n",
      "\n",
      "\n"
     ]
    }
   ],
   "source": [
    "#Check all top words per topic\n",
    "for i,topic in enumerate(LDA.components_):\n",
    "    print(f\"Top words in topic-{i}\")\n",
    "    print([CV.get_feature_names()[index] for index in topic.argsort()[-15:]])\n",
    "    print(\"\\n\")\n",
    "    print(\"\\n\")"
   ]
  },
  {
   "cell_type": "code",
   "execution_count": 35,
   "metadata": {
    "collapsed": true
   },
   "outputs": [],
   "source": [
    "topic_results = LDA.transform(dtm)"
   ]
  },
  {
   "cell_type": "code",
   "execution_count": 36,
   "metadata": {},
   "outputs": [
    {
     "data": {
      "text/plain": [
       "array([7.31632607e-02, 6.75553233e-01, 6.25535235e-03, 2.25570582e-04,\n",
       "       2.21208569e-01, 2.25552570e-04, 2.33684623e-02])"
      ]
     },
     "execution_count": 36,
     "metadata": {},
     "output_type": "execute_result"
    }
   ],
   "source": [
    "topic_results[0]"
   ]
  },
  {
   "cell_type": "code",
   "execution_count": 43,
   "metadata": {},
   "outputs": [
    {
     "data": {
      "text/plain": [
       "array([0.07, 0.68, 0.01, 0.  , 0.22, 0.  , 0.02])"
      ]
     },
     "execution_count": 43,
     "metadata": {},
     "output_type": "execute_result"
    }
   ],
   "source": [
    "topic_results[0].round(2)"
   ]
  },
  {
   "cell_type": "code",
   "execution_count": 44,
   "metadata": {},
   "outputs": [
    {
     "data": {
      "text/plain": [
       "1"
      ]
     },
     "execution_count": 44,
     "metadata": {},
     "output_type": "execute_result"
    }
   ],
   "source": [
    "topic_results[0].argmax()"
   ]
  },
  {
   "cell_type": "code",
   "execution_count": 46,
   "metadata": {},
   "outputs": [],
   "source": [
    "data['Topic'] = topic_results.argmax(axis=1)"
   ]
  },
  {
   "cell_type": "code",
   "execution_count": 47,
   "metadata": {},
   "outputs": [
    {
     "data": {
      "text/html": [
       "<div>\n",
       "<style>\n",
       "    .dataframe thead tr:only-child th {\n",
       "        text-align: right;\n",
       "    }\n",
       "\n",
       "    .dataframe thead th {\n",
       "        text-align: left;\n",
       "    }\n",
       "\n",
       "    .dataframe tbody tr th {\n",
       "        vertical-align: top;\n",
       "    }\n",
       "</style>\n",
       "<table border=\"1\" class=\"dataframe\">\n",
       "  <thead>\n",
       "    <tr style=\"text-align: right;\">\n",
       "      <th></th>\n",
       "      <th>Article</th>\n",
       "      <th>Topic</th>\n",
       "    </tr>\n",
       "  </thead>\n",
       "  <tbody>\n",
       "    <tr>\n",
       "      <th>0</th>\n",
       "      <td>In the Washington of 2016, even when the polic...</td>\n",
       "      <td>1</td>\n",
       "    </tr>\n",
       "    <tr>\n",
       "      <th>1</th>\n",
       "      <td>Donald Trump has used Twitter  —   his prefe...</td>\n",
       "      <td>1</td>\n",
       "    </tr>\n",
       "    <tr>\n",
       "      <th>2</th>\n",
       "      <td>Donald Trump is unabashedly praising Russian...</td>\n",
       "      <td>1</td>\n",
       "    </tr>\n",
       "    <tr>\n",
       "      <th>3</th>\n",
       "      <td>Updated at 2:50 p. m. ET, Russian President Vl...</td>\n",
       "      <td>1</td>\n",
       "    </tr>\n",
       "    <tr>\n",
       "      <th>4</th>\n",
       "      <td>From photography, illustration and video, to d...</td>\n",
       "      <td>5</td>\n",
       "    </tr>\n",
       "  </tbody>\n",
       "</table>\n",
       "</div>"
      ],
      "text/plain": [
       "                                             Article  Topic\n",
       "0  In the Washington of 2016, even when the polic...      1\n",
       "1    Donald Trump has used Twitter  —   his prefe...      1\n",
       "2    Donald Trump is unabashedly praising Russian...      1\n",
       "3  Updated at 2:50 p. m. ET, Russian President Vl...      1\n",
       "4  From photography, illustration and video, to d...      5"
      ]
     },
     "execution_count": 47,
     "metadata": {},
     "output_type": "execute_result"
    }
   ],
   "source": [
    "data.head()"
   ]
  },
  {
   "cell_type": "code",
   "execution_count": null,
   "metadata": {
    "collapsed": true
   },
   "outputs": [],
   "source": []
  }
 ],
 "metadata": {
  "kernelspec": {
   "display_name": "Python 3",
   "language": "python",
   "name": "python3"
  },
  "language_info": {
   "codemirror_mode": {
    "name": "ipython",
    "version": 3
   },
   "file_extension": ".py",
   "mimetype": "text/x-python",
   "name": "python",
   "nbconvert_exporter": "python",
   "pygments_lexer": "ipython3",
   "version": "3.6.3"
  }
 },
 "nbformat": 4,
 "nbformat_minor": 2
}
